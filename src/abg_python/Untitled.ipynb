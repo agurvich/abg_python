{
 "cells": [
  {
   "cell_type": "code",
   "execution_count": 2,
   "metadata": {},
   "outputs": [
    {
     "name": "stdout",
     "output_type": "stream",
     "text": [
      "Couldn't find memory profiler\n"
     ]
    }
   ],
   "source": [
    "from abg_python.snapshot_utils import openSnapshot"
   ]
  },
  {
   "cell_type": "code",
   "execution_count": 3,
   "metadata": {},
   "outputs": [
    {
     "name": "stdout",
     "output_type": "stream",
     "text": [
      "/Users/agurvich/research/snaps/m12i_res7100/output/snapdir_600/snapshot_600.0.hdf5\n",
      "This is a cosmological snapshot... converting to physical units\n",
      "/Users/agurvich/research/snaps/m12i_res7100/output/snapdir_600/snapshot_600.1.hdf5\n",
      "/Users/agurvich/research/snaps/m12i_res7100/output/snapdir_600/snapshot_600.2.hdf5\n",
      "/Users/agurvich/research/snaps/m12i_res7100/output/snapdir_600/snapshot_600.3.hdf5\n"
     ]
    },
    {
     "data": {
      "text/plain": [
       "{u'BoxSize': 60000.0,\n",
       " u'Flag_Cooling': 1,\n",
       " u'Flag_DoublePrecision': 0,\n",
       " u'Flag_Feedback': 1,\n",
       " u'Flag_IC_Info': 3,\n",
       " u'Flag_Metals': 17,\n",
       " u'Flag_Sfr': 1,\n",
       " u'Flag_StellarAge': 1,\n",
       " u'HubbleParam': 0.70199999999999996,\n",
       " u'MassTable': array([ 0.,  0.,  0.,  0.,  0.,  0.]),\n",
       " u'NumFilesPerSnapshot': 4,\n",
       " u'NumPart_ThisFile': array([13712161, 16125907,  1031737,        0,  3203570,        0], dtype=int32),\n",
       " u'NumPart_Total': array([56897231, 70514272,  5513331,        0, 13728304,        0], dtype=uint32),\n",
       " u'NumPart_Total_HighWord': array([0, 0, 0, 0, 0, 0], dtype=uint32),\n",
       " u'Omega0': 0.27200000000000002,\n",
       " u'OmegaLambda': 0.72799999999999998,\n",
       " u'Redshift': 0.0,\n",
       " u'Time': 1.0}"
      ]
     },
     "execution_count": 3,
     "metadata": {},
     "output_type": "execute_result"
    }
   ],
   "source": [
    "openSnapshot('/Users/agurvich/research/snaps/m12i_res7100/output',600,0,header_only=True)"
   ]
  },
  {
   "cell_type": "code",
   "execution_count": null,
   "metadata": {},
   "outputs": [],
   "source": []
  }
 ],
 "metadata": {
  "kernelspec": {
   "display_name": "Python [default]",
   "language": "python",
   "name": "python2"
  },
  "language_info": {
   "codemirror_mode": {
    "name": "ipython",
    "version": 2
   },
   "file_extension": ".py",
   "mimetype": "text/x-python",
   "name": "python",
   "nbconvert_exporter": "python",
   "pygments_lexer": "ipython2",
   "version": "2.7.12"
  }
 },
 "nbformat": 4,
 "nbformat_minor": 2
}
